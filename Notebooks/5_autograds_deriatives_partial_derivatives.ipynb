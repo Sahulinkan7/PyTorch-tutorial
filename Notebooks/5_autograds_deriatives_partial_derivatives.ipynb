{
 "cells": [
  {
   "cell_type": "code",
   "execution_count": 1,
   "id": "b8d25619-6462-45d7-914d-6006862def15",
   "metadata": {},
   "outputs": [],
   "source": [
    "import torch"
   ]
  },
  {
   "cell_type": "markdown",
   "id": "96238489-426e-4f32-b0b9-24c502ec7259",
   "metadata": {},
   "source": [
    "# Derivative "
   ]
  },
  {
   "cell_type": "code",
   "execution_count": null,
   "id": "79900bd5-8732-4b6f-907a-91cd4c9b7269",
   "metadata": {},
   "outputs": [],
   "source": []
  }
 ],
 "metadata": {
  "kernelspec": {
   "display_name": "Python 3 (ipykernel)",
   "language": "python",
   "name": "python3"
  },
  "language_info": {
   "codemirror_mode": {
    "name": "ipython",
    "version": 3
   },
   "file_extension": ".py",
   "mimetype": "text/x-python",
   "name": "python",
   "nbconvert_exporter": "python",
   "pygments_lexer": "ipython3",
   "version": "3.10.0"
  }
 },
 "nbformat": 4,
 "nbformat_minor": 5
}
