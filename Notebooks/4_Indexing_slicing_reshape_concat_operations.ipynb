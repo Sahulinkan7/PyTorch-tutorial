{
 "cells": [
  {
   "cell_type": "code",
   "execution_count": 1,
   "id": "5cd152a2-0a25-4f74-bce7-0bd10aa013de",
   "metadata": {},
   "outputs": [],
   "source": [
    "import torch\n",
    "import numpy as np"
   ]
  },
  {
   "cell_type": "markdown",
   "id": "20ee1cfb-31fd-44d6-86c2-de0a00871df7",
   "metadata": {},
   "source": [
    "# Indexing ,Slicing"
   ]
  },
  {
   "cell_type": "code",
   "execution_count": 2,
   "id": "4cdbc62f-c2ce-4a96-8922-185534ff3cd0",
   "metadata": {},
   "outputs": [
    {
     "data": {
      "text/plain": [
       "tensor([[0.6553, 0.9127, 0.0074, 0.0239],\n",
       "        [0.4374, 0.7728, 0.1631, 0.2685],\n",
       "        [0.2803, 0.6956, 0.2381, 0.0267]])"
      ]
     },
     "execution_count": 2,
     "metadata": {},
     "output_type": "execute_result"
    }
   ],
   "source": [
    "x=torch.rand(size=[3,4])\n",
    "x"
   ]
  },
  {
   "cell_type": "code",
   "execution_count": 3,
   "id": "60951c16-f520-4529-974f-5aca48b30c64",
   "metadata": {},
   "outputs": [
    {
     "data": {
      "text/plain": [
       "(tensor(0.9127), tensor(0.9127))"
      ]
     },
     "execution_count": 3,
     "metadata": {},
     "output_type": "execute_result"
    }
   ],
   "source": [
    "x[0,1],x[0][1]"
   ]
  },
  {
   "cell_type": "code",
   "execution_count": 4,
   "id": "48db6821-ca92-42d5-bb66-fdc24b9882e1",
   "metadata": {},
   "outputs": [
    {
     "data": {
      "text/plain": [
       "tensor([0.6553, 0.9127, 0.0074, 0.0239])"
      ]
     },
     "execution_count": 4,
     "metadata": {},
     "output_type": "execute_result"
    }
   ],
   "source": [
    "x[0,:]"
   ]
  },
  {
   "cell_type": "code",
   "execution_count": 5,
   "id": "93ca08e6-3718-4fa4-ab00-20496334308b",
   "metadata": {},
   "outputs": [
    {
     "data": {
      "text/plain": [
       "tensor([0.4374, 0.7728, 0.1631, 0.2685])"
      ]
     },
     "execution_count": 5,
     "metadata": {},
     "output_type": "execute_result"
    }
   ],
   "source": [
    "x[1,:]"
   ]
  },
  {
   "cell_type": "code",
   "execution_count": 6,
   "id": "8cffd3b7-57cc-4ae1-b63c-82f8a4daf44c",
   "metadata": {},
   "outputs": [
    {
     "data": {
      "text/plain": [
       "tensor([[0.6553, 0.9127, 0.0074],\n",
       "        [0.4374, 0.7728, 0.1631]])"
      ]
     },
     "execution_count": 6,
     "metadata": {},
     "output_type": "execute_result"
    }
   ],
   "source": [
    "x[0:2,0:3]"
   ]
  },
  {
   "cell_type": "code",
   "execution_count": 7,
   "id": "7323b9fc-d3dc-4111-a1d9-c4a0eac6ef45",
   "metadata": {},
   "outputs": [
    {
     "data": {
      "text/plain": [
       "tensor([[0.6553, 0.0074],\n",
       "        [0.4374, 0.1631]])"
      ]
     },
     "execution_count": 7,
     "metadata": {},
     "output_type": "execute_result"
    }
   ],
   "source": [
    "x[0:2,0:3:2]  ## with steps"
   ]
  },
  {
   "cell_type": "code",
   "execution_count": 10,
   "id": "509a3f2d-6350-49fb-8da8-fc1c1a46e722",
   "metadata": {},
   "outputs": [],
   "source": [
    "x[0,1]=989"
   ]
  },
  {
   "cell_type": "code",
   "execution_count": 11,
   "id": "35f24198-bd7d-4dc5-8a76-cd3cebdb874c",
   "metadata": {},
   "outputs": [
    {
     "data": {
      "text/plain": [
       "tensor(989.)"
      ]
     },
     "execution_count": 11,
     "metadata": {},
     "output_type": "execute_result"
    }
   ],
   "source": [
    "x[0,1]"
   ]
  },
  {
   "cell_type": "code",
   "execution_count": 12,
   "id": "5cc76d5c-7c5a-4e30-b4ba-b87f22ca5669",
   "metadata": {},
   "outputs": [
    {
     "data": {
      "text/plain": [
       "tensor([[6.5535e-01, 9.8900e+02, 7.4241e-03, 2.3857e-02],\n",
       "        [4.3736e-01, 7.7276e-01, 1.6314e-01, 2.6846e-01],\n",
       "        [2.8035e-01, 6.9557e-01, 2.3810e-01, 2.6730e-02]])"
      ]
     },
     "execution_count": 12,
     "metadata": {},
     "output_type": "execute_result"
    }
   ],
   "source": [
    "x"
   ]
  },
  {
   "cell_type": "code",
   "execution_count": 13,
   "id": "a6bb4688-8cdb-4323-a38b-95e64c3f537b",
   "metadata": {},
   "outputs": [],
   "source": [
    "y=torch.rand(size=[3,4])"
   ]
  },
  {
   "cell_type": "code",
   "execution_count": 14,
   "id": "6fad31e9-699e-4790-8e91-2a1e22616058",
   "metadata": {},
   "outputs": [
    {
     "data": {
      "text/plain": [
       "tensor([[0.9826, 0.1245, 0.2556, 0.8415],\n",
       "        [0.7845, 0.6435, 0.8286, 0.8220],\n",
       "        [0.0497, 0.7158, 0.7226, 0.0651]])"
      ]
     },
     "execution_count": 14,
     "metadata": {},
     "output_type": "execute_result"
    }
   ],
   "source": [
    "y"
   ]
  },
  {
   "cell_type": "markdown",
   "id": "74847c97-f507-497a-a4ae-622bc9055f57",
   "metadata": {},
   "source": [
    "## concat"
   ]
  },
  {
   "cell_type": "code",
   "execution_count": 15,
   "id": "73ec38d9-7837-497f-a240-fb58924d2194",
   "metadata": {},
   "outputs": [
    {
     "data": {
      "text/plain": [
       "tensor([[6.5535e-01, 9.8900e+02, 7.4241e-03, 2.3857e-02, 9.8261e-01, 1.2454e-01,\n",
       "         2.5560e-01, 8.4151e-01],\n",
       "        [4.3736e-01, 7.7276e-01, 1.6314e-01, 2.6846e-01, 7.8455e-01, 6.4354e-01,\n",
       "         8.2863e-01, 8.2200e-01],\n",
       "        [2.8035e-01, 6.9557e-01, 2.3810e-01, 2.6730e-02, 4.9694e-02, 7.1580e-01,\n",
       "         7.2256e-01, 6.5098e-02]])"
      ]
     },
     "execution_count": 15,
     "metadata": {},
     "output_type": "execute_result"
    }
   ],
   "source": [
    "torch.concat((x,y),dim=1)"
   ]
  },
  {
   "cell_type": "code",
   "execution_count": 16,
   "id": "0a177dd2-0e1e-4538-aba9-17ef45cfe5ca",
   "metadata": {},
   "outputs": [
    {
     "data": {
      "text/plain": [
       "tensor([[6.5535e-01, 9.8900e+02, 7.4241e-03, 2.3857e-02],\n",
       "        [4.3736e-01, 7.7276e-01, 1.6314e-01, 2.6846e-01],\n",
       "        [2.8035e-01, 6.9557e-01, 2.3810e-01, 2.6730e-02],\n",
       "        [9.8261e-01, 1.2454e-01, 2.5560e-01, 8.4151e-01],\n",
       "        [7.8455e-01, 6.4354e-01, 8.2863e-01, 8.2200e-01],\n",
       "        [4.9694e-02, 7.1580e-01, 7.2256e-01, 6.5098e-02]])"
      ]
     },
     "execution_count": 16,
     "metadata": {},
     "output_type": "execute_result"
    }
   ],
   "source": [
    "torch.concat((x,y),dim=0)"
   ]
  },
  {
   "cell_type": "code",
   "execution_count": 17,
   "id": "5ffe9123-7c03-421b-a31d-478544a6c5f8",
   "metadata": {},
   "outputs": [
    {
     "data": {
      "text/plain": [
       "tensor([[6.5535e-01, 9.8900e+02, 7.4241e-03, 2.3857e-02, 4.3736e-01, 7.7276e-01],\n",
       "        [1.6314e-01, 2.6846e-01, 2.8035e-01, 6.9557e-01, 2.3810e-01, 2.6730e-02]])"
      ]
     },
     "execution_count": 17,
     "metadata": {},
     "output_type": "execute_result"
    }
   ],
   "source": [
    "x.reshape(2,6)"
   ]
  },
  {
   "cell_type": "code",
   "execution_count": 18,
   "id": "29a9300e-59ef-4d6e-b7e2-d464434055cf",
   "metadata": {},
   "outputs": [
    {
     "data": {
      "text/plain": [
       "tensor([[0.9826, 0.1245, 0.2556],\n",
       "        [0.8415, 0.7845, 0.6435],\n",
       "        [0.8286, 0.8220, 0.0497],\n",
       "        [0.7158, 0.7226, 0.0651]])"
      ]
     },
     "execution_count": 18,
     "metadata": {},
     "output_type": "execute_result"
    }
   ],
   "source": [
    "y.reshape(4,3)"
   ]
  },
  {
   "cell_type": "code",
   "execution_count": 19,
   "id": "addda84b-a7c4-4473-96bd-0450e2f93a58",
   "metadata": {},
   "outputs": [
    {
     "data": {
      "text/plain": [
       "tensor([[0.9826, 0.1245, 0.2556, 0.8415, 0.7845, 0.6435, 0.8286, 0.8220, 0.0497,\n",
       "         0.7158, 0.7226, 0.0651]])"
      ]
     },
     "execution_count": 19,
     "metadata": {},
     "output_type": "execute_result"
    }
   ],
   "source": [
    "y.reshape(1,12)"
   ]
  },
  {
   "cell_type": "code",
   "execution_count": 20,
   "id": "3f07d57c-4859-44ab-9d9b-b24a5ffbbb33",
   "metadata": {},
   "outputs": [
    {
     "data": {
      "text/plain": [
       "tensor([[6.5535e-01],\n",
       "        [9.8900e+02],\n",
       "        [7.4241e-03],\n",
       "        [2.3857e-02],\n",
       "        [4.3736e-01],\n",
       "        [7.7276e-01],\n",
       "        [1.6314e-01],\n",
       "        [2.6846e-01],\n",
       "        [2.8035e-01],\n",
       "        [6.9557e-01],\n",
       "        [2.3810e-01],\n",
       "        [2.6730e-02]])"
      ]
     },
     "execution_count": 20,
     "metadata": {},
     "output_type": "execute_result"
    }
   ],
   "source": [
    "x.reshape(12,1)"
   ]
  },
  {
   "cell_type": "code",
   "execution_count": 21,
   "id": "bbc47db5-84ca-4b2a-bb34-e39dafe74eca",
   "metadata": {},
   "outputs": [
    {
     "data": {
      "text/plain": [
       "tensor([6.5535e-01, 9.8900e+02, 7.4241e-03, 2.3857e-02, 4.3736e-01, 7.7276e-01,\n",
       "        1.6314e-01, 2.6846e-01, 2.8035e-01, 6.9557e-01, 2.3810e-01, 2.6730e-02])"
      ]
     },
     "execution_count": 21,
     "metadata": {},
     "output_type": "execute_result"
    }
   ],
   "source": [
    "x.flatten() "
   ]
  },
  {
   "cell_type": "code",
   "execution_count": 23,
   "id": "43ffe2f7-deda-4abb-b71a-efe5fce28d8f",
   "metadata": {},
   "outputs": [
    {
     "data": {
      "text/plain": [
       "tensor([6.5535e-01, 9.8900e+02, 7.4241e-03, 2.3857e-02, 4.3736e-01, 7.7276e-01,\n",
       "        1.6314e-01, 2.6846e-01, 2.8035e-01, 6.9557e-01, 2.3810e-01, 2.6730e-02])"
      ]
     },
     "execution_count": 23,
     "metadata": {},
     "output_type": "execute_result"
    }
   ],
   "source": [
    "x.view(-1)  ## flattening operation 1 row "
   ]
  },
  {
   "cell_type": "code",
   "execution_count": 25,
   "id": "10afd974-3329-4c2e-8f9f-3187bc4884cb",
   "metadata": {},
   "outputs": [
    {
     "data": {
      "text/plain": [
       "tensor([[0.3195, 0.2079, 0.2806, 0.5084, 0.7316, 0.7859, 0.5871, 0.5559, 0.9434,\n",
       "         0.5880],\n",
       "        [0.1925, 0.8026, 0.3687, 0.5465, 0.7293, 0.8026, 0.6336, 0.3399, 0.6268,\n",
       "         0.7775],\n",
       "        [0.0499, 0.5473, 0.6360, 0.5286, 0.2073, 0.2855, 0.6495, 0.5837, 0.1854,\n",
       "         0.5043],\n",
       "        [0.7538, 0.8846, 0.3360, 0.0473, 0.5851, 0.8978, 0.6138, 0.1590, 0.6474,\n",
       "         0.2168],\n",
       "        [0.1490, 0.5625, 0.4278, 0.9106, 0.9828, 0.6204, 0.3697, 0.7228, 0.6664,\n",
       "         0.2760],\n",
       "        [0.9259, 0.5988, 0.3761, 0.7951, 0.4083, 0.0273, 0.7763, 0.5821, 0.2733,\n",
       "         0.4083],\n",
       "        [0.3754, 0.1781, 0.7197, 0.7949, 0.8683, 0.4279, 0.7586, 0.4966, 0.5045,\n",
       "         0.2971],\n",
       "        [0.1400, 0.3654, 0.5070, 0.3643, 0.8964, 0.1121, 0.7009, 0.3885, 0.1426,\n",
       "         0.2155],\n",
       "        [0.1210, 0.6900, 0.8270, 0.5417, 0.4682, 0.8971, 0.9453, 0.7563, 0.5702,\n",
       "         0.7498],\n",
       "        [0.0196, 0.8288, 0.4791, 0.4938, 0.6446, 0.9298, 0.1590, 0.7235, 0.3050,\n",
       "         0.7888],\n",
       "        [0.6307, 0.9720, 0.7253, 0.6015, 0.4733, 0.2021, 0.5487, 0.0785, 0.9822,\n",
       "         0.7323],\n",
       "        [0.7138, 0.1500, 0.7652, 0.3570, 0.4371, 0.5504, 0.6827, 0.5298, 0.0327,\n",
       "         0.5021],\n",
       "        [0.6656, 0.9775, 0.9179, 0.8291, 0.8709, 0.6344, 0.5176, 0.0203, 0.1230,\n",
       "         0.7572],\n",
       "        [0.9586, 0.1159, 0.1172, 0.5359, 0.0590, 0.4946, 0.7551, 0.1251, 0.6914,\n",
       "         0.0101],\n",
       "        [0.9591, 0.5489, 0.0807, 0.1039, 0.2947, 0.4813, 0.3332, 0.2460, 0.6777,\n",
       "         0.9999],\n",
       "        [0.5905, 0.7209, 0.3156, 0.3338, 0.1524, 0.9267, 0.7315, 0.4146, 0.8903,\n",
       "         0.3500]])"
      ]
     },
     "execution_count": 25,
     "metadata": {},
     "output_type": "execute_result"
    }
   ],
   "source": [
    "batch=16\n",
    "## batch flattening \n",
    "torch.rand((batch,2,5)).view(batch,-1)"
   ]
  },
  {
   "cell_type": "code",
   "execution_count": null,
   "id": "d12b9749-2fae-4635-bbc6-11b2b2ef60f6",
   "metadata": {},
   "outputs": [],
   "source": []
  }
 ],
 "metadata": {
  "kernelspec": {
   "display_name": "Python 3 (ipykernel)",
   "language": "python",
   "name": "python3"
  },
  "language_info": {
   "codemirror_mode": {
    "name": "ipython",
    "version": 3
   },
   "file_extension": ".py",
   "mimetype": "text/x-python",
   "name": "python",
   "nbconvert_exporter": "python",
   "pygments_lexer": "ipython3",
   "version": "3.10.0"
  }
 },
 "nbformat": 4,
 "nbformat_minor": 5
}
