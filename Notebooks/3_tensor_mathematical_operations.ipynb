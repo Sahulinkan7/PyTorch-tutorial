{
 "cells": [
  {
   "cell_type": "code",
   "execution_count": 1,
   "id": "d0ea2ab9-1235-4d00-87f1-b16dfad20f2a",
   "metadata": {},
   "outputs": [],
   "source": [
    "import torch\n",
    "import numpy\n",
    "import os"
   ]
  },
  {
   "cell_type": "code",
   "execution_count": 2,
   "id": "cc01a996-1c0e-49ef-b719-163f2bb8fa6d",
   "metadata": {},
   "outputs": [
    {
     "data": {
      "text/plain": [
       "(torch.Size([4]), torch.Size([4]))"
      ]
     },
     "execution_count": 2,
     "metadata": {},
     "output_type": "execute_result"
    }
   ],
   "source": [
    "x=torch.arange(start=10,end=20,step=3)\n",
    "y=torch.arange(start=25,end=35,step=3)\n",
    "\n",
    "x.shape,y.shape"
   ]
  },
  {
   "cell_type": "markdown",
   "id": "b88738d4-6673-4fa1-b35b-820d12fa3ed0",
   "metadata": {},
   "source": [
    "    Addition element wise"
   ]
  },
  {
   "cell_type": "code",
   "execution_count": 3,
   "id": "267dfa18-84d8-406c-a877-c6f39e44a344",
   "metadata": {},
   "outputs": [
    {
     "name": "stdout",
     "output_type": "stream",
     "text": [
      "tensor([10, 13, 16, 19]) tensor([25, 28, 31, 34])\n"
     ]
    }
   ],
   "source": [
    "print(x,y)"
   ]
  },
  {
   "cell_type": "code",
   "execution_count": 4,
   "id": "c7025bef-09ce-4063-8426-f710cd3809d7",
   "metadata": {},
   "outputs": [
    {
     "data": {
      "text/plain": [
       "tensor([35, 41, 47, 53])"
      ]
     },
     "execution_count": 4,
     "metadata": {},
     "output_type": "execute_result"
    }
   ],
   "source": [
    "x+y"
   ]
  },
  {
   "cell_type": "markdown",
   "id": "5aed017a-1052-45e0-8a34-9e45b564bace",
   "metadata": {},
   "source": [
    "Multiplication element wise"
   ]
  },
  {
   "cell_type": "code",
   "execution_count": 5,
   "id": "26cef7f4-1a56-4174-a867-8ff3ecc7c7cd",
   "metadata": {},
   "outputs": [
    {
     "data": {
      "text/plain": [
       "tensor([250, 364, 496, 646])"
      ]
     },
     "execution_count": 5,
     "metadata": {},
     "output_type": "execute_result"
    }
   ],
   "source": [
    "x*y"
   ]
  },
  {
   "cell_type": "markdown",
   "id": "641d1bec-229e-4d15-8ece-ce06d0fca07e",
   "metadata": {},
   "source": [
    "Division element wise"
   ]
  },
  {
   "cell_type": "code",
   "execution_count": 6,
   "id": "92b7570d-f98e-4be1-a892-d8966eb96749",
   "metadata": {},
   "outputs": [
    {
     "data": {
      "text/plain": [
       "tensor([0.4000, 0.4643, 0.5161, 0.5588])"
      ]
     },
     "execution_count": 6,
     "metadata": {},
     "output_type": "execute_result"
    }
   ],
   "source": [
    "x/y"
   ]
  },
  {
   "cell_type": "code",
   "execution_count": 7,
   "id": "d1bb625e-391c-4ac9-bcb0-cdd57bdad6c7",
   "metadata": {},
   "outputs": [
    {
     "data": {
      "text/plain": [
       "(tensor([1., 1., 1., 1.]), tensor([10, 13, 16, 19]))"
      ]
     },
     "execution_count": 7,
     "metadata": {},
     "output_type": "execute_result"
    }
   ],
   "source": [
    "z=torch.ones(4)\n",
    "z,x"
   ]
  },
  {
   "cell_type": "code",
   "execution_count": 8,
   "id": "21c53372-7b9f-499c-9e6e-20d2ff986166",
   "metadata": {},
   "outputs": [
    {
     "data": {
      "text/plain": [
       "tensor([11., 14., 17., 20.])"
      ]
     },
     "execution_count": 8,
     "metadata": {},
     "output_type": "execute_result"
    }
   ],
   "source": [
    "x+z"
   ]
  },
  {
   "cell_type": "markdown",
   "id": "82f50656-642e-4f15-b195-2102ba1d02b0",
   "metadata": {},
   "source": [
    "In place addition "
   ]
  },
  {
   "cell_type": "code",
   "execution_count": 9,
   "id": "b6b0006e-0eb2-4e01-802b-a1ecc65b8730",
   "metadata": {},
   "outputs": [
    {
     "data": {
      "text/plain": [
       "tensor([11., 14., 17., 20.])"
      ]
     },
     "execution_count": 9,
     "metadata": {},
     "output_type": "execute_result"
    }
   ],
   "source": [
    "z.add_(x)  # updates z value"
   ]
  },
  {
   "cell_type": "code",
   "execution_count": 10,
   "id": "e0c8f524-353a-4f86-879c-d5ad0c9915ed",
   "metadata": {},
   "outputs": [
    {
     "data": {
      "text/plain": [
       "tensor([11., 14., 17., 20.])"
      ]
     },
     "execution_count": 10,
     "metadata": {},
     "output_type": "execute_result"
    }
   ],
   "source": [
    "z"
   ]
  },
  {
   "cell_type": "code",
   "execution_count": 11,
   "id": "de994782-999e-4dc0-b1ef-62d639dfd5d7",
   "metadata": {},
   "outputs": [
    {
     "data": {
      "text/plain": [
       "tensor([100, 169, 256, 361])"
      ]
     },
     "execution_count": 11,
     "metadata": {},
     "output_type": "execute_result"
    }
   ],
   "source": [
    "x.pow(2)  ## power of x tensor"
   ]
  },
  {
   "cell_type": "markdown",
   "id": "adeaa5d1-b231-4ba2-9ba1-ac16ff15865b",
   "metadata": {},
   "source": [
    "comparision of tensor values"
   ]
  },
  {
   "cell_type": "markdown",
   "id": "b082ec0a-c3be-41cb-bf5e-b7739dd3c67c",
   "metadata": {},
   "source": [
    "x>0  # compares each value "
   ]
  },
  {
   "cell_type": "markdown",
   "id": "eb85c99f-818f-4371-a17d-909c2373464e",
   "metadata": {},
   "source": [
    "Matrix multiplication "
   ]
  },
  {
   "cell_type": "code",
   "execution_count": 12,
   "id": "b576d27e-3a19-4725-b10e-60f9fd94b7a1",
   "metadata": {},
   "outputs": [
    {
     "data": {
      "text/plain": [
       "tensor([[2.4302, 1.3418, 1.2775],\n",
       "        [1.8522, 1.3997, 0.8029],\n",
       "        [2.3354, 1.4943, 0.8333]])"
      ]
     },
     "execution_count": 12,
     "metadata": {},
     "output_type": "execute_result"
    }
   ],
   "source": [
    "a=torch.rand(size=(3,5))\n",
    "b=torch.rand(size=(5,3))\n",
    "\n",
    "a @ b  ## matrix multiplication "
   ]
  },
  {
   "cell_type": "code",
   "execution_count": 13,
   "id": "8b54d26b-d3ba-4e1d-91eb-5bc96c009a77",
   "metadata": {},
   "outputs": [
    {
     "data": {
      "text/plain": [
       "tensor([[2.4302, 1.3418, 1.2775],\n",
       "        [1.8522, 1.3997, 0.8029],\n",
       "        [2.3354, 1.4943, 0.8333]])"
      ]
     },
     "execution_count": 13,
     "metadata": {},
     "output_type": "execute_result"
    }
   ],
   "source": [
    "a.matmul(b)  ## matrix multilication"
   ]
  },
  {
   "cell_type": "code",
   "execution_count": 14,
   "id": "56dba1f5-8134-4cbc-aba6-0719a5b983b8",
   "metadata": {},
   "outputs": [
    {
     "name": "stdout",
     "output_type": "stream",
     "text": [
      "tensor([[0.3553, 0.5539, 0.4511],\n",
      "        [0.7559, 0.0146, 0.4520],\n",
      "        [0.9696, 0.4254, 0.7165]])\n"
     ]
    },
    {
     "data": {
      "text/plain": [
       "tensor([[2.2063, 0.9710, 1.1178],\n",
       "        [1.4655, 1.5078, 1.0692],\n",
       "        [2.2300, 1.1782, 2.7613]])"
      ]
     },
     "execution_count": 14,
     "metadata": {},
     "output_type": "execute_result"
    }
   ],
   "source": [
    "t=torch.rand(3,3)\n",
    "print(t)\n",
    "t.matrix_exp()  ## exponentiation of square matrix"
   ]
  },
  {
   "cell_type": "code",
   "execution_count": 15,
   "id": "4a702944-73cf-4857-ac57-442e8f106ad0",
   "metadata": {},
   "outputs": [
    {
     "data": {
      "text/plain": [
       "tensor([[2, 2],\n",
       "        [3, 4]])"
      ]
     },
     "execution_count": 15,
     "metadata": {},
     "output_type": "execute_result"
    }
   ],
   "source": [
    "r=torch.tensor([[2,2],[3,4]])\n",
    "r"
   ]
  },
  {
   "cell_type": "code",
   "execution_count": 16,
   "id": "b83ad453-87be-4fa6-9592-4e33e8fbc1d0",
   "metadata": {},
   "outputs": [
    {
     "data": {
      "text/plain": [
       "tensor([[10, 12],\n",
       "        [18, 22]])"
      ]
     },
     "execution_count": 16,
     "metadata": {},
     "output_type": "execute_result"
    }
   ],
   "source": [
    "r.matrix_power(2)"
   ]
  },
  {
   "cell_type": "markdown",
   "id": "d8ca8483-15f2-497e-8391-655a92272b07",
   "metadata": {},
   "source": [
    "dot product "
   ]
  },
  {
   "cell_type": "code",
   "execution_count": 17,
   "id": "f8b508d0-f0ab-4ac5-8198-07e74a0107cd",
   "metadata": {},
   "outputs": [],
   "source": [
    "s=torch.tensor([2,3,4])\n",
    "t=torch.tensor([6,7,9])"
   ]
  },
  {
   "cell_type": "code",
   "execution_count": 18,
   "id": "cf67495b-ff0c-4107-b25f-8e6fccc0dc80",
   "metadata": {},
   "outputs": [
    {
     "data": {
      "text/plain": [
       "tensor(69)"
      ]
     },
     "execution_count": 18,
     "metadata": {},
     "output_type": "execute_result"
    }
   ],
   "source": [
    "s.dot(t)"
   ]
  },
  {
   "cell_type": "code",
   "execution_count": 19,
   "id": "88089779-36fc-471b-920b-7f2083be9134",
   "metadata": {},
   "outputs": [
    {
     "data": {
      "text/plain": [
       "tensor(69)"
      ]
     },
     "execution_count": 19,
     "metadata": {},
     "output_type": "execute_result"
    }
   ],
   "source": [
    "sum(s*t) ## dot product"
   ]
  },
  {
   "cell_type": "markdown",
   "id": "80518eaf-3a92-4618-a42e-4545165944fa",
   "metadata": {},
   "source": [
    "## Broadcasting "
   ]
  },
  {
   "cell_type": "code",
   "execution_count": 20,
   "id": "c1e68f32-57d6-4072-a094-6bb52763ef0b",
   "metadata": {},
   "outputs": [
    {
     "data": {
      "text/plain": [
       "tensor([2, 3, 4])"
      ]
     },
     "execution_count": 20,
     "metadata": {},
     "output_type": "execute_result"
    }
   ],
   "source": [
    "s"
   ]
  },
  {
   "cell_type": "code",
   "execution_count": 21,
   "id": "01cfc03a-d37f-4c73-bcd0-359a182e735c",
   "metadata": {},
   "outputs": [
    {
     "data": {
      "text/plain": [
       "tensor([3, 4, 5])"
      ]
     },
     "execution_count": 21,
     "metadata": {},
     "output_type": "execute_result"
    }
   ],
   "source": [
    "s+1  # adding 1 to each element of tensor s. this is broadcasting "
   ]
  },
  {
   "cell_type": "code",
   "execution_count": 22,
   "id": "2f20a801-5a57-4f41-9c00-e9a482458248",
   "metadata": {},
   "outputs": [
    {
     "data": {
      "text/plain": [
       "tensor([10, 15, 20])"
      ]
     },
     "execution_count": 22,
     "metadata": {},
     "output_type": "execute_result"
    }
   ],
   "source": [
    "s*5   # multiplying 5 to each element of tensor s. this is broadcasting "
   ]
  },
  {
   "cell_type": "code",
   "execution_count": 23,
   "id": "d5dd1c21-dbbd-4120-a6aa-ca75fe9558ba",
   "metadata": {},
   "outputs": [
    {
     "data": {
      "text/plain": [
       "tensor([[2, 3, 4],\n",
       "        [5, 6, 7]])"
      ]
     },
     "execution_count": 23,
     "metadata": {},
     "output_type": "execute_result"
    }
   ],
   "source": [
    "tensor1=torch.tensor([[2,3,4],[5,6,7]])\n",
    "tensor1"
   ]
  },
  {
   "cell_type": "code",
   "execution_count": 24,
   "id": "6858a35a-c884-4598-9248-1a268df331fc",
   "metadata": {},
   "outputs": [
    {
     "data": {
      "text/plain": [
       "tensor([[1., 1., 1.]])"
      ]
     },
     "execution_count": 24,
     "metadata": {},
     "output_type": "execute_result"
    }
   ],
   "source": [
    "ones=torch.ones(size=(1,3))\n",
    "ones"
   ]
  },
  {
   "cell_type": "code",
   "execution_count": 25,
   "id": "c4e847b6-9e92-473e-99a9-51eb362b3f94",
   "metadata": {},
   "outputs": [
    {
     "data": {
      "text/plain": [
       "tensor([[1., 2., 3.],\n",
       "        [4., 5., 6.]])"
      ]
     },
     "execution_count": 25,
     "metadata": {},
     "output_type": "execute_result"
    }
   ],
   "source": [
    "tensor1-ones  ## broadcasting -> subtracting 1 from each element from tensor1"
   ]
  },
  {
   "cell_type": "code",
   "execution_count": 26,
   "id": "f5c9a047-f00a-477d-8328-d4f5d362487f",
   "metadata": {},
   "outputs": [
    {
     "data": {
      "text/plain": [
       "tensor([[3., 4., 5.],\n",
       "        [6., 7., 8.]])"
      ]
     },
     "execution_count": 26,
     "metadata": {},
     "output_type": "execute_result"
    }
   ],
   "source": [
    "tensor1+ones ## broadcasting -> adding 1 from each element from tensor1"
   ]
  },
  {
   "cell_type": "markdown",
   "id": "4d0d3157-f46d-40f4-a6be-0661ac6ba680",
   "metadata": {},
   "source": [
    "Broadcasting across columns also works similarly as row wise operation above."
   ]
  },
  {
   "cell_type": "code",
   "execution_count": 27,
   "id": "7aaa4e7c-d3e0-49dc-8894-0809a1edb155",
   "metadata": {},
   "outputs": [
    {
     "data": {
      "text/plain": [
       "tensor(27)"
      ]
     },
     "execution_count": 27,
     "metadata": {},
     "output_type": "execute_result"
    }
   ],
   "source": [
    "tensor1.sum()  ## sum of the elements of tensor elements"
   ]
  },
  {
   "cell_type": "code",
   "execution_count": 28,
   "id": "21af7405-1889-4e7c-9cfc-f32394f24b99",
   "metadata": {},
   "outputs": [
    {
     "data": {
      "text/plain": [
       "tensor([[0.5590, 0.2700, 0.2700, 0.4121],\n",
       "        [0.6980, 0.1928, 0.7009, 0.5032],\n",
       "        [0.8144, 0.9457, 0.7466, 0.8259]])"
      ]
     },
     "execution_count": 28,
     "metadata": {},
     "output_type": "execute_result"
    }
   ],
   "source": [
    "A = torch.rand(size=(3,4))\n",
    "A"
   ]
  },
  {
   "cell_type": "code",
   "execution_count": 29,
   "id": "9a660b46-8288-408a-97c6-baf18a71da98",
   "metadata": {},
   "outputs": [
    {
     "data": {
      "text/plain": [
       "tensor(0.9457)"
      ]
     },
     "execution_count": 29,
     "metadata": {},
     "output_type": "execute_result"
    }
   ],
   "source": [
    "A.max()"
   ]
  },
  {
   "cell_type": "code",
   "execution_count": 30,
   "id": "ef970511-c0a8-4957-8818-fb60da88c7af",
   "metadata": {},
   "outputs": [
    {
     "data": {
      "text/plain": [
       "tensor(9)"
      ]
     },
     "execution_count": 30,
     "metadata": {},
     "output_type": "execute_result"
    }
   ],
   "source": [
    "A.argmax()"
   ]
  },
  {
   "cell_type": "code",
   "execution_count": 31,
   "id": "f8c970fa-2a01-442f-b411-dc38d0385da3",
   "metadata": {},
   "outputs": [
    {
     "data": {
      "text/plain": [
       "tensor(0.1928)"
      ]
     },
     "execution_count": 31,
     "metadata": {},
     "output_type": "execute_result"
    }
   ],
   "source": [
    "A.min()"
   ]
  },
  {
   "cell_type": "code",
   "execution_count": 32,
   "id": "5ad5ae57-f2c2-40e0-afba-edca8aee7cff",
   "metadata": {},
   "outputs": [
    {
     "data": {
      "text/plain": [
       "tensor(5)"
      ]
     },
     "execution_count": 32,
     "metadata": {},
     "output_type": "execute_result"
    }
   ],
   "source": [
    "A.argmin()"
   ]
  },
  {
   "cell_type": "code",
   "execution_count": 33,
   "id": "f8372db0-9c80-4393-978e-066123641f5b",
   "metadata": {},
   "outputs": [
    {
     "data": {
      "text/plain": [
       "(tensor(0.9457), tensor(9))"
      ]
     },
     "execution_count": 33,
     "metadata": {},
     "output_type": "execute_result"
    }
   ],
   "source": [
    "torch.max(A),torch.argmax(A)"
   ]
  },
  {
   "cell_type": "code",
   "execution_count": 34,
   "id": "ca793954-45ea-4963-9609-6077ebdeb005",
   "metadata": {},
   "outputs": [
    {
     "data": {
      "text/plain": [
       "(tensor(0.1928), tensor(5))"
      ]
     },
     "execution_count": 34,
     "metadata": {},
     "output_type": "execute_result"
    }
   ],
   "source": [
    "torch.min(A),torch.argmin(A)"
   ]
  },
  {
   "cell_type": "code",
   "execution_count": 35,
   "id": "0e521b1c-24b0-46d8-a8cf-fdd5de9b480a",
   "metadata": {},
   "outputs": [
    {
     "data": {
      "text/plain": [
       "torch.return_types.max(\n",
       "values=tensor([0.5590, 0.7009, 0.9457]),\n",
       "indices=tensor([0, 2, 1]))"
      ]
     },
     "execution_count": 35,
     "metadata": {},
     "output_type": "execute_result"
    }
   ],
   "source": [
    "torch.max(A,dim=1)"
   ]
  },
  {
   "cell_type": "code",
   "execution_count": 36,
   "id": "47679317-2c5a-4b09-89c6-4a57d22e0ce7",
   "metadata": {},
   "outputs": [
    {
     "data": {
      "text/plain": [
       "torch.return_types.min(\n",
       "values=tensor([0.2700, 0.1928, 0.7466]),\n",
       "indices=tensor([1, 1, 2]))"
      ]
     },
     "execution_count": 36,
     "metadata": {},
     "output_type": "execute_result"
    }
   ],
   "source": [
    "torch.min(A,dim=1)"
   ]
  },
  {
   "cell_type": "code",
   "execution_count": 37,
   "id": "6b4078a5-85df-411b-8b52-742e8efa8e64",
   "metadata": {},
   "outputs": [
    {
     "data": {
      "text/plain": [
       "torch.return_types.min(\n",
       "values=tensor([0.5590, 0.1928, 0.2700, 0.4121]),\n",
       "indices=tensor([0, 1, 0, 0]))"
      ]
     },
     "execution_count": 37,
     "metadata": {},
     "output_type": "execute_result"
    }
   ],
   "source": [
    "torch.min(A,dim=0)"
   ]
  },
  {
   "cell_type": "code",
   "execution_count": 38,
   "id": "941c749f-9760-454d-9335-fe97e0b1b9bf",
   "metadata": {},
   "outputs": [
    {
     "data": {
      "text/plain": [
       "torch.return_types.max(\n",
       "values=tensor([0.8144, 0.9457, 0.7466, 0.8259]),\n",
       "indices=tensor([2, 2, 2, 2]))"
      ]
     },
     "execution_count": 38,
     "metadata": {},
     "output_type": "execute_result"
    }
   ],
   "source": [
    "torch.max(A,dim=0)"
   ]
  },
  {
   "cell_type": "code",
   "execution_count": 39,
   "id": "503cf47a-19c6-4532-98d6-f57d7fa968fa",
   "metadata": {},
   "outputs": [
    {
     "data": {
      "text/plain": [
       "tensor([[0.5590, 0.2700, 0.2700, 0.4121],\n",
       "        [0.6980, 0.1928, 0.7009, 0.5032],\n",
       "        [0.8144, 0.9457, 0.7466, 0.8259]])"
      ]
     },
     "execution_count": 39,
     "metadata": {},
     "output_type": "execute_result"
    }
   ],
   "source": [
    "torch.abs(-A)"
   ]
  },
  {
   "cell_type": "code",
   "execution_count": 41,
   "id": "95e28a13-961e-44d8-a80f-41cf283bfa85",
   "metadata": {},
   "outputs": [
    {
     "data": {
      "text/plain": [
       "tensor([0, 2, 1])"
      ]
     },
     "execution_count": 41,
     "metadata": {},
     "output_type": "execute_result"
    }
   ],
   "source": [
    "torch.argmax(A,dim=1)"
   ]
  },
  {
   "cell_type": "code",
   "execution_count": 42,
   "id": "382d36b1-c142-472a-8762-33ba8aa70c8a",
   "metadata": {},
   "outputs": [
    {
     "data": {
      "text/plain": [
       "tensor(0.5782)"
      ]
     },
     "execution_count": 42,
     "metadata": {},
     "output_type": "execute_result"
    }
   ],
   "source": [
    "torch.mean(A)"
   ]
  },
  {
   "cell_type": "code",
   "execution_count": 43,
   "id": "10e99b29-533b-4d6a-bf21-d9e22ef0f009",
   "metadata": {},
   "outputs": [
    {
     "data": {
      "text/plain": [
       "tensor([[0.5590, 0.2700, 0.2700, 0.4121],\n",
       "        [0.6980, 0.1928, 0.7009, 0.5032],\n",
       "        [0.8144, 0.9457, 0.7466, 0.8259]])"
      ]
     },
     "execution_count": 43,
     "metadata": {},
     "output_type": "execute_result"
    }
   ],
   "source": [
    "A"
   ]
  },
  {
   "cell_type": "code",
   "execution_count": 45,
   "id": "51f8027b-2663-40ea-a65e-da9197b1fe63",
   "metadata": {},
   "outputs": [],
   "source": [
    "B=torch.ones(size=A.shape)"
   ]
  },
  {
   "cell_type": "code",
   "execution_count": 46,
   "id": "1f53e277-86f2-49ae-b586-3b0d6a52db1a",
   "metadata": {},
   "outputs": [
    {
     "data": {
      "text/plain": [
       "tensor([[False, False, False, False],\n",
       "        [False, False, False, False],\n",
       "        [False, False, False, False]])"
      ]
     },
     "execution_count": 46,
     "metadata": {},
     "output_type": "execute_result"
    }
   ],
   "source": [
    "A>B"
   ]
  },
  {
   "cell_type": "code",
   "execution_count": 47,
   "id": "04a7efd2-e06c-4977-ac8c-410bcc4910d0",
   "metadata": {},
   "outputs": [
    {
     "data": {
      "text/plain": [
       "tensor([[False, False, False, False],\n",
       "        [False, False, False, False],\n",
       "        [False, False, False, False]])"
      ]
     },
     "execution_count": 47,
     "metadata": {},
     "output_type": "execute_result"
    }
   ],
   "source": [
    "A==B"
   ]
  },
  {
   "cell_type": "code",
   "execution_count": 49,
   "id": "e11e8e07-fd2d-49aa-b225-8ab47af19dec",
   "metadata": {},
   "outputs": [
    {
     "data": {
      "text/plain": [
       "tensor([[False, False, False, False],\n",
       "        [False, False, False, False],\n",
       "        [False, False, False, False]])"
      ]
     },
     "execution_count": 49,
     "metadata": {},
     "output_type": "execute_result"
    }
   ],
   "source": [
    "A.eq(B)"
   ]
  },
  {
   "cell_type": "code",
   "execution_count": 50,
   "id": "203b3b8c-0ee4-4a5b-ad41-92f208c07e87",
   "metadata": {},
   "outputs": [
    {
     "data": {
      "text/plain": [
       "tensor([[True, True, True, True],\n",
       "        [True, True, True, True],\n",
       "        [True, True, True, True]])"
      ]
     },
     "execution_count": 50,
     "metadata": {},
     "output_type": "execute_result"
    }
   ],
   "source": [
    "A<B"
   ]
  },
  {
   "cell_type": "code",
   "execution_count": 52,
   "id": "2517587d-ebcf-4f4d-ae75-7b6eb1b08c57",
   "metadata": {},
   "outputs": [
    {
     "data": {
      "text/plain": [
       "torch.return_types.sort(\n",
       "values=tensor([[0.2700, 0.2700, 0.4121, 0.5590],\n",
       "        [0.1928, 0.5032, 0.6980, 0.7009],\n",
       "        [0.7466, 0.8144, 0.8259, 0.9457]]),\n",
       "indices=tensor([[1, 2, 3, 0],\n",
       "        [1, 3, 0, 2],\n",
       "        [2, 0, 3, 1]]))"
      ]
     },
     "execution_count": 52,
     "metadata": {},
     "output_type": "execute_result"
    }
   ],
   "source": [
    "torch.sort(A)"
   ]
  },
  {
   "cell_type": "code",
   "execution_count": null,
   "id": "f9848269-2e95-4159-8784-be3925d84046",
   "metadata": {},
   "outputs": [],
   "source": []
  }
 ],
 "metadata": {
  "kernelspec": {
   "display_name": "Python 3 (ipykernel)",
   "language": "python",
   "name": "python3"
  },
  "language_info": {
   "codemirror_mode": {
    "name": "ipython",
    "version": 3
   },
   "file_extension": ".py",
   "mimetype": "text/x-python",
   "name": "python",
   "nbconvert_exporter": "python",
   "pygments_lexer": "ipython3",
   "version": "3.10.0"
  }
 },
 "nbformat": 4,
 "nbformat_minor": 5
}
