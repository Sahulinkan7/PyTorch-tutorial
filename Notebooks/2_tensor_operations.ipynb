{
 "cells": [
  {
   "cell_type": "code",
   "execution_count": 1,
   "id": "dab6f9f0-cf2e-4feb-9ff6-63e725ffdf07",
   "metadata": {},
   "outputs": [],
   "source": [
    "import torch\n",
    "import os"
   ]
  },
  {
   "cell_type": "code",
   "execution_count": 2,
   "id": "0183a228-43cc-4ed2-884d-0cdbf8f02fa0",
   "metadata": {},
   "outputs": [
    {
     "data": {
      "text/plain": [
       "'cuda'"
      ]
     },
     "execution_count": 2,
     "metadata": {},
     "output_type": "execute_result"
    }
   ],
   "source": [
    "device=\"cuda\" if torch.cuda.is_available else \"cpu\"\n",
    "device"
   ]
  },
  {
   "cell_type": "code",
   "execution_count": 3,
   "id": "3b0b1d4a-db60-4e02-9579-a22404c511f1",
   "metadata": {},
   "outputs": [
    {
     "data": {
      "text/plain": [
       "tensor([[1, 3, 5],\n",
       "        [2, 3, 4]])"
      ]
     },
     "execution_count": 3,
     "metadata": {},
     "output_type": "execute_result"
    }
   ],
   "source": [
    "simple_tensor=torch.tensor([[1,3,5],[2,3,4]])\n",
    "simple_tensor"
   ]
  },
  {
   "cell_type": "code",
   "execution_count": 4,
   "id": "7fdb057f-fb70-479b-850d-2fa71ded1d93",
   "metadata": {},
   "outputs": [
    {
     "data": {
      "text/plain": [
       "torch.Tensor"
      ]
     },
     "execution_count": 4,
     "metadata": {},
     "output_type": "execute_result"
    }
   ],
   "source": [
    "type(simple_tensor)"
   ]
  },
  {
   "cell_type": "code",
   "execution_count": 5,
   "id": "a4da5579-de6a-4d96-8c9f-8ae4b4393875",
   "metadata": {},
   "outputs": [
    {
     "data": {
      "text/plain": [
       "torch.int64"
      ]
     },
     "execution_count": 5,
     "metadata": {},
     "output_type": "execute_result"
    }
   ],
   "source": [
    "simple_tensor.dtype"
   ]
  },
  {
   "cell_type": "code",
   "execution_count": 6,
   "id": "0b97f8ab-2669-4acc-9592-630b50ab2015",
   "metadata": {},
   "outputs": [
    {
     "data": {
      "text/plain": [
       "torch.Size([2, 3])"
      ]
     },
     "execution_count": 6,
     "metadata": {},
     "output_type": "execute_result"
    }
   ],
   "source": [
    "simple_tensor.size()"
   ]
  },
  {
   "cell_type": "code",
   "execution_count": 7,
   "id": "18b58a8f-d2e7-4a0b-94c7-e0ed7f975544",
   "metadata": {},
   "outputs": [
    {
     "data": {
      "text/plain": [
       "torch.Size([2, 3])"
      ]
     },
     "execution_count": 7,
     "metadata": {},
     "output_type": "execute_result"
    }
   ],
   "source": [
    "simple_tensor.shape"
   ]
  },
  {
   "cell_type": "code",
   "execution_count": 8,
   "id": "a2f77f44-bae2-47d0-a7f7-6197ccfdd6b1",
   "metadata": {},
   "outputs": [
    {
     "data": {
      "text/plain": [
       "False"
      ]
     },
     "execution_count": 8,
     "metadata": {},
     "output_type": "execute_result"
    }
   ],
   "source": [
    "simple_tensor.requires_grad"
   ]
  },
  {
   "cell_type": "code",
   "execution_count": 11,
   "id": "cec71c01-4199-42a7-9a65-4a54a894b4aa",
   "metadata": {},
   "outputs": [
    {
     "data": {
      "text/plain": [
       "device(type='cpu')"
      ]
     },
     "execution_count": 11,
     "metadata": {},
     "output_type": "execute_result"
    }
   ],
   "source": [
    "simple_tensor.device"
   ]
  },
  {
   "cell_type": "code",
   "execution_count": 12,
   "id": "0a77f5b8-ebd0-4fa4-8ccd-9302f9a83608",
   "metadata": {},
   "outputs": [],
   "source": [
    "tensor_2=torch.tensor([[2,4,5],[5,7,8],[90,4,56]],dtype=float,requires_grad=True,device=device)"
   ]
  },
  {
   "cell_type": "code",
   "execution_count": 13,
   "id": "749822e4-c69e-474a-9284-3a5131245b16",
   "metadata": {},
   "outputs": [
    {
     "data": {
      "text/plain": [
       "device(type='cuda', index=0)"
      ]
     },
     "execution_count": 13,
     "metadata": {},
     "output_type": "execute_result"
    }
   ],
   "source": [
    "tensor_2.device"
   ]
  },
  {
   "cell_type": "code",
   "execution_count": 14,
   "id": "defa38ac-476a-4017-821c-0e2111aed623",
   "metadata": {},
   "outputs": [
    {
     "data": {
      "text/plain": [
       "torch.float64"
      ]
     },
     "execution_count": 14,
     "metadata": {},
     "output_type": "execute_result"
    }
   ],
   "source": [
    "tensor_2.dtype"
   ]
  },
  {
   "cell_type": "markdown",
   "id": "7bdd7f66-ba93-4c97-b740-fc5c1a2e0768",
   "metadata": {},
   "source": [
    "## commonly used tensors "
   ]
  },
  {
   "cell_type": "code",
   "execution_count": 23,
   "id": "93735253-487e-4724-ae67-eff49671f151",
   "metadata": {},
   "outputs": [
    {
     "data": {
      "text/plain": [
       "tensor([[0., 0., 0.],\n",
       "        [0., 0., 0.],\n",
       "        [0., 0., 0.]])"
      ]
     },
     "execution_count": 23,
     "metadata": {},
     "output_type": "execute_result"
    }
   ],
   "source": [
    "zero_tensor=torch.empty(size=(3,3))  \n",
    "zero_tensor"
   ]
  },
  {
   "cell_type": "code",
   "execution_count": 24,
   "id": "e3490916-98e0-487b-b406-c1e8899692d7",
   "metadata": {},
   "outputs": [
    {
     "data": {
      "text/plain": [
       "tensor([[1., 1., 1.],\n",
       "        [1., 1., 1.],\n",
       "        [1., 1., 1.]])"
      ]
     },
     "execution_count": 24,
     "metadata": {},
     "output_type": "execute_result"
    }
   ],
   "source": [
    "one_tensor=torch.ones(size=(3,3))\n",
    "one_tensor"
   ]
  },
  {
   "cell_type": "code",
   "execution_count": 26,
   "id": "3ca007ef-48aa-4c29-a658-db2b6485adac",
   "metadata": {},
   "outputs": [
    {
     "data": {
      "text/plain": [
       "tensor([[0.2859, 0.3927, 0.6309, 0.9655],\n",
       "        [0.9283, 0.6906, 0.3549, 0.0126],\n",
       "        [0.1869, 0.4460, 0.2277, 0.0011]])"
      ]
     },
     "execution_count": 26,
     "metadata": {},
     "output_type": "execute_result"
    }
   ],
   "source": [
    "random_tensor=torch.rand(size=[3,4])\n",
    "random_tensor"
   ]
  },
  {
   "cell_type": "code",
   "execution_count": 30,
   "id": "23da123d-d09e-4de9-8a67-a5775d9167ac",
   "metadata": {},
   "outputs": [
    {
     "data": {
      "text/plain": [
       "tensor([[1., 0., 0.],\n",
       "        [0., 1., 0.],\n",
       "        [0., 0., 1.]])"
      ]
     },
     "execution_count": 30,
     "metadata": {},
     "output_type": "execute_result"
    }
   ],
   "source": [
    "identity_tensor=torch.eye(3)\n",
    "identity_tensor"
   ]
  },
  {
   "cell_type": "code",
   "execution_count": 34,
   "id": "ffb86943-2e3f-4c99-a887-ee019902e096",
   "metadata": {},
   "outputs": [
    {
     "data": {
      "text/plain": [
       "tensor([ 1,  3,  5,  7,  9, 11, 13, 15, 17, 19])"
      ]
     },
     "execution_count": 34,
     "metadata": {},
     "output_type": "execute_result"
    }
   ],
   "source": [
    "arange_tensor=torch.arange(start=1,end=20,step=2)\n",
    "arange_tensor"
   ]
  },
  {
   "cell_type": "code",
   "execution_count": 39,
   "id": "dcdab930-da36-4d6c-a048-28af4c427292",
   "metadata": {},
   "outputs": [
    {
     "data": {
      "text/plain": [
       "tensor([1.0000, 1.0526, 1.1053, 1.1579, 1.2105, 1.2632, 1.3158, 1.3684, 1.4211,\n",
       "        1.4737, 1.5263, 1.5789, 1.6316, 1.6842, 1.7368, 1.7895, 1.8421, 1.8947,\n",
       "        1.9474, 2.0000])"
      ]
     },
     "execution_count": 39,
     "metadata": {},
     "output_type": "execute_result"
    }
   ],
   "source": [
    "linspace_tensor=torch.linspace(start=1,end=2,steps=20)\n",
    "linspace_tensor"
   ]
  },
  {
   "cell_type": "code",
   "execution_count": 42,
   "id": "66198af6-58e4-4e60-a8b4-90624b17d169",
   "metadata": {},
   "outputs": [
    {
     "data": {
      "text/plain": [
       "tensor([ 1.3910,  0.6300,  1.8404,  0.6303, -0.1216,  0.1533,  0.1740,  2.2909,\n",
       "         1.0918, -0.1215])"
      ]
     },
     "execution_count": 42,
     "metadata": {},
     "output_type": "execute_result"
    }
   ],
   "source": [
    "normal_dist_tensor=torch.linspace(start=1,end=3,steps=10).normal_(mean=0,std=1)\n",
    "normal_dist_tensor"
   ]
  },
  {
   "cell_type": "code",
   "execution_count": 46,
   "id": "2369c46b-0aca-4b28-8200-0f3f13101e24",
   "metadata": {},
   "outputs": [
    {
     "data": {
      "text/plain": [
       "tensor([[5., 0., 0., 0.],\n",
       "        [0., 5., 0., 0.],\n",
       "        [0., 0., 5., 0.],\n",
       "        [0., 0., 0., 5.]])"
      ]
     },
     "execution_count": 46,
     "metadata": {},
     "output_type": "execute_result"
    }
   ],
   "source": [
    "diag_tensor=torch.diag(5*torch.ones(4))\n",
    "diag_tensor"
   ]
  },
  {
   "cell_type": "markdown",
   "id": "7531fc7e-6b3b-49e6-9613-03305cb71e62",
   "metadata": {},
   "source": [
    "## conversion of tensors"
   ]
  },
  {
   "cell_type": "code",
   "execution_count": 47,
   "id": "bf45f698-434f-43be-bad9-6722ded6be38",
   "metadata": {},
   "outputs": [
    {
     "data": {
      "text/plain": [
       "tensor([0, 1, 2, 3, 4])"
      ]
     },
     "execution_count": 47,
     "metadata": {},
     "output_type": "execute_result"
    }
   ],
   "source": [
    "num_tensor=torch.arange(5)\n",
    "num_tensor"
   ]
  },
  {
   "cell_type": "code",
   "execution_count": 52,
   "id": "5f9d1634-b132-41be-a96a-88c371d3917a",
   "metadata": {},
   "outputs": [
    {
     "data": {
      "text/plain": [
       "tensor([False,  True,  True,  True,  True])"
      ]
     },
     "execution_count": 52,
     "metadata": {},
     "output_type": "execute_result"
    }
   ],
   "source": [
    "new_tensor=num_tensor.bool()  ## converting to bool type tensor\n",
    "new_tensor"
   ]
  },
  {
   "cell_type": "code",
   "execution_count": 53,
   "id": "733a73a7-72c1-48ae-9bab-2b4e98982d95",
   "metadata": {},
   "outputs": [
    {
     "data": {
      "text/plain": [
       "torch.bool"
      ]
     },
     "execution_count": 53,
     "metadata": {},
     "output_type": "execute_result"
    }
   ],
   "source": [
    "new_tensor.dtype"
   ]
  },
  {
   "cell_type": "code",
   "execution_count": 54,
   "id": "9f793cf2-f6af-4b44-a148-5dd515310381",
   "metadata": {},
   "outputs": [
    {
     "data": {
      "text/plain": [
       "tensor([0, 1, 2, 3, 4], dtype=torch.int16)"
      ]
     },
     "execution_count": 54,
     "metadata": {},
     "output_type": "execute_result"
    }
   ],
   "source": [
    "num_tensor.short()"
   ]
  },
  {
   "cell_type": "code",
   "execution_count": 55,
   "id": "4a062c96-71a0-4d6e-8e2f-e76d08357295",
   "metadata": {},
   "outputs": [
    {
     "data": {
      "text/plain": [
       "tensor([0, 1, 2, 3, 4])"
      ]
     },
     "execution_count": 55,
     "metadata": {},
     "output_type": "execute_result"
    }
   ],
   "source": [
    "num_tensor.long()"
   ]
  },
  {
   "cell_type": "code",
   "execution_count": 56,
   "id": "74c548bd-17c4-487b-bf62-951e0e2b52f7",
   "metadata": {},
   "outputs": [
    {
     "data": {
      "text/plain": [
       "tensor([0., 1., 2., 3., 4.], dtype=torch.float16)"
      ]
     },
     "execution_count": 56,
     "metadata": {},
     "output_type": "execute_result"
    }
   ],
   "source": [
    "num_tensor.half()"
   ]
  },
  {
   "cell_type": "code",
   "execution_count": 57,
   "id": "68576177-ccc5-4bab-b7de-1d92914083b9",
   "metadata": {},
   "outputs": [
    {
     "data": {
      "text/plain": [
       "tensor([0., 1., 2., 3., 4.])"
      ]
     },
     "execution_count": 57,
     "metadata": {},
     "output_type": "execute_result"
    }
   ],
   "source": [
    "num_tensor.float()"
   ]
  },
  {
   "cell_type": "code",
   "execution_count": 58,
   "id": "f1dc09aa-dfae-4833-aee9-0d6a8e309aa4",
   "metadata": {},
   "outputs": [
    {
     "data": {
      "text/plain": [
       "tensor([0., 1., 2., 3., 4.], dtype=torch.float64)"
      ]
     },
     "execution_count": 58,
     "metadata": {},
     "output_type": "execute_result"
    }
   ],
   "source": [
    "num_tensor.double()"
   ]
  },
  {
   "cell_type": "markdown",
   "id": "c58f54cb-2c6f-4444-be2c-6b1d3a5fb866",
   "metadata": {},
   "source": [
    "### converting tensor to numpy array "
   ]
  },
  {
   "cell_type": "code",
   "execution_count": 60,
   "id": "a71ea041-3def-48e2-9a7b-0f1b6469b118",
   "metadata": {},
   "outputs": [],
   "source": [
    "import numpy as np"
   ]
  },
  {
   "cell_type": "code",
   "execution_count": 61,
   "id": "13074d3b-b16c-47a7-bda9-c6c4de14d796",
   "metadata": {},
   "outputs": [],
   "source": [
    "num_array=np.array([[1,2,3],[4,5,6]])"
   ]
  },
  {
   "cell_type": "code",
   "execution_count": 63,
   "id": "1925f609-162a-4adc-ba29-23a620348b40",
   "metadata": {},
   "outputs": [
    {
     "data": {
      "text/plain": [
       "tensor([[1, 2, 3],\n",
       "        [4, 5, 6]], dtype=torch.int32)"
      ]
     },
     "execution_count": 63,
     "metadata": {},
     "output_type": "execute_result"
    }
   ],
   "source": [
    "torch.from_numpy(num_array)"
   ]
  },
  {
   "cell_type": "code",
   "execution_count": 64,
   "id": "278ebbb1-1d37-4fcf-b332-ccb890c36ddb",
   "metadata": {},
   "outputs": [
    {
     "data": {
      "text/plain": [
       "tensor([[1, 2, 3],\n",
       "        [4, 5, 6]], dtype=torch.int32)"
      ]
     },
     "execution_count": 64,
     "metadata": {},
     "output_type": "execute_result"
    }
   ],
   "source": [
    "torch.tensor(num_array)"
   ]
  },
  {
   "cell_type": "code",
   "execution_count": 66,
   "id": "3c6614f8-570e-4cc5-91bf-74911eba931a",
   "metadata": {},
   "outputs": [],
   "source": [
    "tensor_arr=torch.tensor([[1,2,3],[4,5,6]])\n",
    "numpy_array=tensor_arr.numpy() # coverts into numpy array"
   ]
  },
  {
   "cell_type": "code",
   "execution_count": 67,
   "id": "8c04ed5e-b4d0-4428-8bca-9088d6dad65e",
   "metadata": {},
   "outputs": [
    {
     "data": {
      "text/plain": [
       "array([[1, 2, 3],\n",
       "       [4, 5, 6]], dtype=int64)"
      ]
     },
     "execution_count": 67,
     "metadata": {},
     "output_type": "execute_result"
    }
   ],
   "source": [
    "numpy_array"
   ]
  },
  {
   "cell_type": "code",
   "execution_count": 68,
   "id": "4fba0727-2b7a-44aa-b956-80b0afa9dfa3",
   "metadata": {},
   "outputs": [
    {
     "data": {
      "text/plain": [
       "numpy.ndarray"
      ]
     },
     "execution_count": 68,
     "metadata": {},
     "output_type": "execute_result"
    }
   ],
   "source": [
    "type(numpy_array)"
   ]
  },
  {
   "cell_type": "code",
   "execution_count": null,
   "id": "cc5267ee-756d-469b-990c-791bdaba9eb0",
   "metadata": {},
   "outputs": [],
   "source": []
  }
 ],
 "metadata": {
  "kernelspec": {
   "display_name": "Python 3 (ipykernel)",
   "language": "python",
   "name": "python3"
  },
  "language_info": {
   "codemirror_mode": {
    "name": "ipython",
    "version": 3
   },
   "file_extension": ".py",
   "mimetype": "text/x-python",
   "name": "python",
   "nbconvert_exporter": "python",
   "pygments_lexer": "ipython3",
   "version": "3.10.0"
  }
 },
 "nbformat": 4,
 "nbformat_minor": 5
}
